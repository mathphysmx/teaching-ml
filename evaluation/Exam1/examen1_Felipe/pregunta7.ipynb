{
 "cells": [
  {
   "cell_type": "code",
   "execution_count": 2,
   "metadata": {},
   "outputs": [],
   "source": [
    "import sys\n",
    "assert sys.version_info >= (3, 5)\n",
    "import sklearn\n",
    "assert sklearn.__version__ >= \"0.20\"\n",
    "import numpy as np\n",
    "import os\n",
    "%matplotlib inline\n",
    "import matplotlib as mpl\n",
    "import matplotlib.pyplot as plt\n",
    "\n",
    "import pandas as pd"
   ]
  },
  {
   "cell_type": "code",
   "execution_count": 22,
   "metadata": {},
   "outputs": [
    {
     "data": {
      "text/html": [
       "<div>\n",
       "<style scoped>\n",
       "    .dataframe tbody tr th:only-of-type {\n",
       "        vertical-align: middle;\n",
       "    }\n",
       "\n",
       "    .dataframe tbody tr th {\n",
       "        vertical-align: top;\n",
       "    }\n",
       "\n",
       "    .dataframe thead th {\n",
       "        text-align: right;\n",
       "    }\n",
       "</style>\n",
       "<table border=\"1\" class=\"dataframe\">\n",
       "  <thead>\n",
       "    <tr style=\"text-align: right;\">\n",
       "      <th></th>\n",
       "      <th>Depth (m)</th>\n",
       "      <th>Por (%)</th>\n",
       "      <th>Perm (mD)</th>\n",
       "    </tr>\n",
       "  </thead>\n",
       "  <tbody>\n",
       "    <tr>\n",
       "      <th>count</th>\n",
       "      <td>104.000000</td>\n",
       "      <td>104.000000</td>\n",
       "      <td>104.000000</td>\n",
       "    </tr>\n",
       "    <tr>\n",
       "      <th>mean</th>\n",
       "      <td>13.125000</td>\n",
       "      <td>12.291392</td>\n",
       "      <td>174.275774</td>\n",
       "    </tr>\n",
       "    <tr>\n",
       "      <th>std</th>\n",
       "      <td>7.541552</td>\n",
       "      <td>3.134241</td>\n",
       "      <td>83.046936</td>\n",
       "    </tr>\n",
       "    <tr>\n",
       "      <th>min</th>\n",
       "      <td>0.250000</td>\n",
       "      <td>1.683841</td>\n",
       "      <td>38.404238</td>\n",
       "    </tr>\n",
       "    <tr>\n",
       "      <th>25%</th>\n",
       "      <td>6.687500</td>\n",
       "      <td>10.837985</td>\n",
       "      <td>124.553622</td>\n",
       "    </tr>\n",
       "    <tr>\n",
       "      <th>50%</th>\n",
       "      <td>13.125000</td>\n",
       "      <td>12.342241</td>\n",
       "      <td>164.809769</td>\n",
       "    </tr>\n",
       "    <tr>\n",
       "      <th>75%</th>\n",
       "      <td>19.562500</td>\n",
       "      <td>14.329633</td>\n",
       "      <td>206.461192</td>\n",
       "    </tr>\n",
       "    <tr>\n",
       "      <th>max</th>\n",
       "      <td>26.000000</td>\n",
       "      <td>21.936304</td>\n",
       "      <td>560.420444</td>\n",
       "    </tr>\n",
       "  </tbody>\n",
       "</table>\n",
       "</div>"
      ],
      "text/plain": [
       "        Depth (m)     Por (%)   Perm (mD)\n",
       "count  104.000000  104.000000  104.000000\n",
       "mean    13.125000   12.291392  174.275774\n",
       "std      7.541552    3.134241   83.046936\n",
       "min      0.250000    1.683841   38.404238\n",
       "25%      6.687500   10.837985  124.553622\n",
       "50%     13.125000   12.342241  164.809769\n",
       "75%     19.562500   14.329633  206.461192\n",
       "max     26.000000   21.936304  560.420444"
      ]
     },
     "execution_count": 22,
     "metadata": {},
     "output_type": "execute_result"
    }
   ],
   "source": [
    "url= 'https://raw.githubusercontent.com/GeostatsGuy/GeoDataSets/master/1WellPorPerm.csv'\n",
    "df= pd.read_csv(url)\n",
    "df.describe()\n"
   ]
  },
  {
   "cell_type": "code",
   "execution_count": 23,
   "metadata": {},
   "outputs": [
    {
     "data": {
      "text/html": [
       "<div>\n",
       "<style scoped>\n",
       "    .dataframe tbody tr th:only-of-type {\n",
       "        vertical-align: middle;\n",
       "    }\n",
       "\n",
       "    .dataframe tbody tr th {\n",
       "        vertical-align: top;\n",
       "    }\n",
       "\n",
       "    .dataframe thead th {\n",
       "        text-align: right;\n",
       "    }\n",
       "</style>\n",
       "<table border=\"1\" class=\"dataframe\">\n",
       "  <thead>\n",
       "    <tr style=\"text-align: right;\">\n",
       "      <th></th>\n",
       "      <th>Depth (m)</th>\n",
       "      <th>Por (%)</th>\n",
       "      <th>Perm (mD)</th>\n",
       "    </tr>\n",
       "  </thead>\n",
       "  <tbody>\n",
       "    <tr>\n",
       "      <th>count</th>\n",
       "      <td>104.000000</td>\n",
       "      <td>104.000000</td>\n",
       "      <td>104.000000</td>\n",
       "    </tr>\n",
       "    <tr>\n",
       "      <th>mean</th>\n",
       "      <td>13.125000</td>\n",
       "      <td>12.291392</td>\n",
       "      <td>174.275774</td>\n",
       "    </tr>\n",
       "    <tr>\n",
       "      <th>std</th>\n",
       "      <td>7.541552</td>\n",
       "      <td>3.134241</td>\n",
       "      <td>83.046936</td>\n",
       "    </tr>\n",
       "    <tr>\n",
       "      <th>min</th>\n",
       "      <td>0.250000</td>\n",
       "      <td>1.683841</td>\n",
       "      <td>38.404238</td>\n",
       "    </tr>\n",
       "    <tr>\n",
       "      <th>25%</th>\n",
       "      <td>6.687500</td>\n",
       "      <td>10.837985</td>\n",
       "      <td>124.553622</td>\n",
       "    </tr>\n",
       "    <tr>\n",
       "      <th>50%</th>\n",
       "      <td>13.125000</td>\n",
       "      <td>12.342241</td>\n",
       "      <td>164.809769</td>\n",
       "    </tr>\n",
       "    <tr>\n",
       "      <th>75%</th>\n",
       "      <td>19.562500</td>\n",
       "      <td>14.329633</td>\n",
       "      <td>206.461192</td>\n",
       "    </tr>\n",
       "    <tr>\n",
       "      <th>max</th>\n",
       "      <td>26.000000</td>\n",
       "      <td>21.936304</td>\n",
       "      <td>560.420444</td>\n",
       "    </tr>\n",
       "  </tbody>\n",
       "</table>\n",
       "</div>"
      ],
      "text/plain": [
       "        Depth (m)     Por (%)   Perm (mD)\n",
       "count  104.000000  104.000000  104.000000\n",
       "mean    13.125000   12.291392  174.275774\n",
       "std      7.541552    3.134241   83.046936\n",
       "min      0.250000    1.683841   38.404238\n",
       "25%      6.687500   10.837985  124.553622\n",
       "50%     13.125000   12.342241  164.809769\n",
       "75%     19.562500   14.329633  206.461192\n",
       "max     26.000000   21.936304  560.420444"
      ]
     },
     "execution_count": 23,
     "metadata": {},
     "output_type": "execute_result"
    }
   ],
   "source": [
    "df.describe()"
   ]
  },
  {
   "cell_type": "code",
   "execution_count": 24,
   "metadata": {},
   "outputs": [],
   "source": [
    "import seaborn as sns\n",
    "import matplotlib.pyplot as plt\n",
    "%matplotlib inline"
   ]
  },
  {
   "cell_type": "code",
   "execution_count": 25,
   "metadata": {},
   "outputs": [
    {
     "data": {
      "text/plain": [
       "[1, 30, 0, 30]"
      ]
     },
     "execution_count": 25,
     "metadata": {},
     "output_type": "execute_result"
    },
    {
     "data": {
      "image/png": "[encoded data removed]",
      "text/plain": [
       "<Figure size 864x360 with 1 Axes>"
      ]
     },
     "metadata": {
      "needs_background": "light"
     },
     "output_type": "display_data"
    }
   ],
   "source": [
    "plt.figure(figsize=(12,5))\n",
    "plt.subplot(121)\n",
    "sns.distplot(df['Por (%)'],kde=False)\n",
    "plt.xlabel('Por (%)')\n",
    "plt.axis([1,30,0,30])"
   ]
  },
  {
   "cell_type": "code",
   "execution_count": 26,
   "metadata": {},
   "outputs": [
    {
     "data": {
      "text/plain": [
       "[3, 600, 0, 30]"
      ]
     },
     "execution_count": 26,
     "metadata": {},
     "output_type": "execute_result"
    },
    {
     "data": {
      "image/png": "[encoded data removed]",
      "text/plain": [
       "<Figure size 864x360 with 1 Axes>"
      ]
     },
     "metadata": {
      "needs_background": "light"
     },
     "output_type": "display_data"
    }
   ],
   "source": [
    "plt.figure(figsize=(12,5))\n",
    "plt.subplot(121)\n",
    "sns.distplot(df['Perm (mD)'],kde=False)\n",
    "plt.xlabel('Perm (mD)')\n",
    "plt.axis([3,600,0,30])"
   ]
  },
  {
   "cell_type": "code",
   "execution_count": 27,
   "metadata": {},
   "outputs": [
    {
     "data": {
      "text/plain": [
       "array([[<matplotlib.axes._subplots.AxesSubplot object at 0x000002C605E55248>,\n",
       "        <matplotlib.axes._subplots.AxesSubplot object at 0x000002C605F32FC8>,\n",
       "        <matplotlib.axes._subplots.AxesSubplot object at 0x000002C605F6B308>],\n",
       "       [<matplotlib.axes._subplots.AxesSubplot object at 0x000002C605FA2D48>,\n",
       "        <matplotlib.axes._subplots.AxesSubplot object at 0x000002C605FDC8C8>,\n",
       "        <matplotlib.axes._subplots.AxesSubplot object at 0x000002C6060539C8>],\n",
       "       [<matplotlib.axes._subplots.AxesSubplot object at 0x000002C60609A988>,\n",
       "        <matplotlib.axes._subplots.AxesSubplot object at 0x000002C6060C5B48>,\n",
       "        <matplotlib.axes._subplots.AxesSubplot object at 0x000002C6060E0688>]],\n",
       "      dtype=object)"
      ]
     },
     "execution_count": 27,
     "metadata": {},
     "output_type": "execute_result"
    },
    {
     "data": {
      "image/png": "[encoded data removed]",
      "text/plain": [
       "<Figure size 432x288 with 9 Axes>"
      ]
     },
     "metadata": {
      "needs_background": "light"
     },
     "output_type": "display_data"
    }
   ],
   "source": [
    "from pandas.plotting import scatter_matrix\n",
    "scatter_matrix(df, alpha=0.2)"
   ]
  },
  {
   "cell_type": "code",
   "execution_count": 96,
   "metadata": {},
   "outputs": [],
   "source": [
    "from sklearn.model_selection import train_test_split\n",
    "#features=['Por (%)','Perm (mD)']\n",
    "#df1=df[features]\n",
    "#xp = np.array()\n",
    "xp =df[['Por (%)']] #Feature\n",
    "yper =df[['Perm (mD)']]  #Label\n",
    "xt, x_test, yt, y_test = train_test_split(xp, yper, test_size=0.2, random_state=42)"
   ]
  },
  {
   "cell_type": "code",
   "execution_count": 102,
   "metadata": {},
   "outputs": [
    {
     "name": "stdout",
     "output_type": "stream",
     "text": [
      "Intercept:  [-47.97106895]\n",
      "Coefficients:  [[17.93246616]]\n",
      "Metricas para el modelo con el conjunto de prueba\n",
      "\tMean squared error: 4729.09\n",
      "\tRoot mean squared error: 68.77\n",
      "Metricas para el modelo con el conjunto de entrenamiento\n",
      "\tMean squared error: 3444.03\n",
      "\tRoot mean squared error: 58.69\n"
     ]
    }
   ],
   "source": [
    "from sklearn.linear_model import LinearRegression\n",
    "    # Create linear regression object\n",
    "model=LinearRegression().fit(xt,yt)\n",
    "   # intercept & coefficients\n",
    "print('Intercept: ', model.intercept_)\n",
    "print('Coefficients: ', model.coef_)\n",
    "\n",
    "yp=model.predict(x_test)\n",
    "    #prueba\n",
    "    #print(xts)\n",
    "print('Metricas para el modelo con el conjunto de prueba')\n",
    "    #print(xts)\n",
    "    #print(yp)\n",
    "mse = mean_squared_error(y_test,yp)\n",
    "rmse = np.sqrt(mse)\n",
    "print(\"\\tMean squared error: %.2f\" % mse)\n",
    "print(\"\\tRoot mean squared error: %.2f\" % rmse)\n",
    "print('Metricas para el modelo con el conjunto de entrenamiento')\n",
    "yp1=model.predict(xt)\n",
    "mse = mean_squared_error(yt,yp1)\n",
    "rmse = np.sqrt(mse)\n",
    "print(\"\\tMean squared error: %.2f\" % mse)\n",
    "print(\"\\tRoot mean squared error: %.2f\" % rmse)\n"
   ]
  },
  {
   "cell_type": "code",
   "execution_count": 107,
   "metadata": {},
   "outputs": [
    {
     "name": "stdout",
     "output_type": "stream",
     "text": [
      "Metricas para el modelo con el conjunto de prueba\n",
      "\tMean squared error: 11536.85\n",
      "\tRoot mean squared error: 107.41\n",
      "Metricas para el modelo con el conjunto de entrenamiento\n",
      "\tMean squared error: 0.00\n",
      "\tRoot mean squared error: 0.00\n"
     ]
    }
   ],
   "source": [
    "from sklearn.tree import DecisionTreeRegressor\n",
    "#Training\n",
    "tree_reg = DecisionTreeRegressor(random_state=42)\n",
    "tree_reg.fit(xt, yt) #Caracteristicas y Etiquetas\n",
    "#Test\n",
    "yp2=tree_reg.predict(x_test)\n",
    "   \n",
    "print('Metricas para el modelo con el conjunto de prueba')\n",
    "  \n",
    "mse2 = mean_squared_error(y_test,yp2)\n",
    "rmse2 = np.sqrt(mse2)\n",
    "print(\"\\tMean squared error: %.2f\" % mse2)\n",
    "print(\"\\tRoot mean squared error: %.2f\" % rmse2)\n",
    "#\n",
    "print('Metricas para el modelo con el conjunto de entrenamiento')\n",
    "yp12=tree_reg.predict(xt)\n",
    "mse12 = mean_squared_error(yt,yp12)\n",
    "rmse12 = np.sqrt(mse12)\n",
    "print(\"\\tMean squared error: %.2f\" % mse12)\n",
    "print(\"\\tRoot mean squared error: %.2f\" % rmse12)\n",
    "\n"
   ]
  },
  {
   "cell_type": "code",
   "execution_count": 109,
   "metadata": {},
   "outputs": [
    {
     "name": "stdout",
     "output_type": "stream",
     "text": [
      "Metricas para el modelo con el conjunto de prueba\n",
      "\tMean squared error: 11536.85\n",
      "\tRoot mean squared error: 107.41\n",
      "Metricas para el modelo con el conjunto de entrenamiento\n",
      "\tMean squared error: 0.00\n",
      "\tRoot mean squared error: 0.00\n"
     ]
    }
   ],
   "source": [
    "from sklearn.tree import DecisionTreeRegressor\n",
    "#Training\n",
    "tree_reg = DecisionTreeRegressor(random_state=42)\n",
    "tree_reg.fit(xt, yt) #Caracteristicas y Etiquetas\n",
    "#Test\n",
    "yp2=tree_reg.predict(x_test)\n",
    "   \n",
    "print('Metricas para el modelo con el conjunto de prueba')\n",
    "  \n",
    "mse2 = mean_squared_error(y_test,yp2)\n",
    "rmse2 = np.sqrt(mse2)\n",
    "print(\"\\tMean squared error: %.2f\" % mse2)\n",
    "print(\"\\tRoot mean squared error: %.2f\" % rmse2)\n",
    "\n",
    "    #Entrenamiento\n",
    "print('Metricas para el modelo con el conjunto de entrenamiento')\n",
    "yp12=tree_reg.predict(xt)\n",
    "mse12 = mean_squared_error(yt,yp12)\n",
    "rmse12 = np.sqrt(mse12)\n",
    "print(\"\\tMean squared error: %.2f\" % mse12)\n",
    "print(\"\\tRoot mean squared error: %.2f\" % rmse12)\n",
    "\n"
   ]
  },
  {
   "cell_type": "code",
   "execution_count": 110,
   "metadata": {},
   "outputs": [
    {
     "name": "stdout",
     "output_type": "stream",
     "text": [
      "Metricas para el modelo con el conjunto de prueba\n",
      "\tMean squared error: 11536.85\n",
      "\tRoot mean squared error: 107.41\n",
      "Metricas para el modelo con el conjunto de entrenamiento\n",
      "\tMean squared error: 0.00\n",
      "\tRoot mean squared error: 0.00\n"
     ]
    }
   ],
   "source": [
    "from sklearn.tree import DecisionTreeRegressor\n",
    "#Training\n",
    "tree_reg = DecisionTreeRegressor(random_state=42)\n",
    "tree_reg.fit(xt, yt) #Caracteristicas y Etiquetas\n",
    "#Test\n",
    "yp2=tree_reg.predict(x_test)\n",
    "   \n",
    "print('Metricas para el modelo con el conjunto de prueba')\n",
    "  \n",
    "mse2 = mean_squared_error(y_test,yp2)\n",
    "rmse2 = np.sqrt(mse2)\n",
    "print(\"\\tMean squared error: %.2f\" % mse2)\n",
    "print(\"\\tRoot mean squared error: %.2f\" % rmse2)\n",
    "\n",
    "    #Entrenamiento\n",
    "print('Metricas para el modelo con el conjunto de entrenamiento')\n",
    "yp12=tree_reg.predict(xt)\n",
    "mse12 = mean_squared_error(yt,yp12)\n",
    "rmse12 = np.sqrt(mse12)\n",
    "print(\"\\tMean squared error: %.2f\" % mse12)\n",
    "print(\"\\tRoot mean squared error: %.2f\" % rmse12)\n"
   ]
  },
  {
   "cell_type": "code",
   "execution_count": null,
   "metadata": {},
   "outputs": [],
   "source": []
  }
 ],
 "metadata": {
  "kernelspec": {
   "display_name": "Python 3.7.4 64-bit ('base': conda)",
   "language": "python",
   "name": "python37464bitbasecondac80cc3f42e78492b83324d376c17327f"
  },
  "language_info": {
   "codemirror_mode": {
    "name": "ipython",
    "version": 3
   },
   "file_extension": ".py",
   "mimetype": "text/x-python",
   "name": "python",
   "nbconvert_exporter": "python",
   "pygments_lexer": "ipython3",
   "version": "3.7.4"
  }
 },
 "nbformat": 4,
 "nbformat_minor": 2
}
