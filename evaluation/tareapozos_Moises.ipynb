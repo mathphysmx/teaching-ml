{
 "cells": [
  {
   "cell_type": "markdown",
   "metadata": {},
   "source": [
    "# Tarea Moises Franco"
   ]
  },
  {
   "cell_type": "markdown",
   "metadata": {},
   "source": [
    "# Lectura de datos"
   ]
  },
  {
   "cell_type": "code",
   "execution_count": 10,
   "metadata": {},
   "outputs": [
    {
     "name": "stdout",
     "output_type": "stream",
     "text": [
      "f\n"
     ]
    },
    {
     "data": {
      "text/html": [
       "<div>\n",
       "<style scoped>\n",
       "    .dataframe tbody tr th:only-of-type {\n",
       "        vertical-align: middle;\n",
       "    }\n",
       "\n",
       "    .dataframe tbody tr th {\n",
       "        vertical-align: top;\n",
       "    }\n",
       "\n",
       "    .dataframe thead th {\n",
       "        text-align: right;\n",
       "    }\n",
       "</style>\n",
       "<table border=\"1\" class=\"dataframe\">\n",
       "  <thead>\n",
       "    <tr style=\"text-align: right;\">\n",
       "      <th></th>\n",
       "      <th>Unnamed: 0</th>\n",
       "      <th>Well</th>\n",
       "      <th>X</th>\n",
       "      <th>Y</th>\n",
       "      <th>Z</th>\n",
       "      <th>Var</th>\n",
       "    </tr>\n",
       "  </thead>\n",
       "  <tbody>\n",
       "    <tr>\n",
       "      <td>count</td>\n",
       "      <td>700.00000</td>\n",
       "      <td>700.00000</td>\n",
       "      <td>700.000000</td>\n",
       "      <td>700.000000</td>\n",
       "      <td>700.000000</td>\n",
       "      <td>700.000000</td>\n",
       "    </tr>\n",
       "    <tr>\n",
       "      <td>mean</td>\n",
       "      <td>349.50000</td>\n",
       "      <td>3.00000</td>\n",
       "      <td>432.857143</td>\n",
       "      <td>386.428571</td>\n",
       "      <td>49.500000</td>\n",
       "      <td>0.100768</td>\n",
       "    </tr>\n",
       "    <tr>\n",
       "      <td>std</td>\n",
       "      <td>202.21688</td>\n",
       "      <td>2.00143</td>\n",
       "      <td>288.338652</td>\n",
       "      <td>257.543061</td>\n",
       "      <td>28.886711</td>\n",
       "      <td>0.021827</td>\n",
       "    </tr>\n",
       "    <tr>\n",
       "      <td>min</td>\n",
       "      <td>0.00000</td>\n",
       "      <td>0.00000</td>\n",
       "      <td>50.000000</td>\n",
       "      <td>30.000000</td>\n",
       "      <td>0.000000</td>\n",
       "      <td>0.048000</td>\n",
       "    </tr>\n",
       "    <tr>\n",
       "      <td>25%</td>\n",
       "      <td>174.75000</td>\n",
       "      <td>1.00000</td>\n",
       "      <td>130.000000</td>\n",
       "      <td>55.000000</td>\n",
       "      <td>24.750000</td>\n",
       "      <td>0.085225</td>\n",
       "    </tr>\n",
       "    <tr>\n",
       "      <td>50%</td>\n",
       "      <td>349.50000</td>\n",
       "      <td>3.00000</td>\n",
       "      <td>500.000000</td>\n",
       "      <td>500.000000</td>\n",
       "      <td>49.500000</td>\n",
       "      <td>0.100800</td>\n",
       "    </tr>\n",
       "    <tr>\n",
       "      <td>75%</td>\n",
       "      <td>524.25000</td>\n",
       "      <td>5.00000</td>\n",
       "      <td>780.000000</td>\n",
       "      <td>620.000000</td>\n",
       "      <td>74.250000</td>\n",
       "      <td>0.118100</td>\n",
       "    </tr>\n",
       "    <tr>\n",
       "      <td>max</td>\n",
       "      <td>699.00000</td>\n",
       "      <td>6.00000</td>\n",
       "      <td>820.000000</td>\n",
       "      <td>710.000000</td>\n",
       "      <td>99.000000</td>\n",
       "      <td>0.155200</td>\n",
       "    </tr>\n",
       "  </tbody>\n",
       "</table>\n",
       "</div>"
      ],
      "text/plain": [
       "       Unnamed: 0       Well           X           Y           Z         Var\n",
       "count   700.00000  700.00000  700.000000  700.000000  700.000000  700.000000\n",
       "mean    349.50000    3.00000  432.857143  386.428571   49.500000    0.100768\n",
       "std     202.21688    2.00143  288.338652  257.543061   28.886711    0.021827\n",
       "min       0.00000    0.00000   50.000000   30.000000    0.000000    0.048000\n",
       "25%     174.75000    1.00000  130.000000   55.000000   24.750000    0.085225\n",
       "50%     349.50000    3.00000  500.000000  500.000000   49.500000    0.100800\n",
       "75%     524.25000    5.00000  780.000000  620.000000   74.250000    0.118100\n",
       "max     699.00000    6.00000  820.000000  710.000000   99.000000    0.155200"
      ]
     },
     "execution_count": 10,
     "metadata": {},
     "output_type": "execute_result"
    }
   ],
   "source": [
    "import pandas as pd\n",
    "import numpy as np \n",
    "import matplotlib.pyplot as plt\n",
    "url= 'https://raw.githubusercontent.com/GeostatsGuy/GeoDataSets/master/VerticalWells.csv'\n",
    "wlog= pd.read_csv(url)\n",
    "wlog.describe()"
   ]
  },
  {
   "cell_type": "markdown",
   "metadata": {},
   "source": [
    "# Ubicación de los pozos (x,y)"
   ]
  },
  {
   "cell_type": "code",
   "execution_count": 33,
   "metadata": {},
   "outputs": [
    {
     "data": {
      "text/plain": [
       "<matplotlib.axes._subplots.AxesSubplot at 0x1ed0bb52e08>"
      ]
     },
     "execution_count": 33,
     "metadata": {},
     "output_type": "execute_result"
    },
    {
     "data": {
      "image/png": "[encoded data removed]",
      "text/plain": [
       "<Figure size 432x288 with 2 Axes>"
      ]
     },
     "metadata": {
      "needs_background": "light"
     },
     "output_type": "display_data"
    }
   ],
   "source": [
    "#a=wlog.groupby(by=\"Well\")\n",
    "#a.plot.hist()\n",
    "wlog.plot.scatter(x='X',y='Y',c='Well', colormap='viridis')"
   ]
  },
  {
   "cell_type": "markdown",
   "metadata": {},
   "source": [
    "# DataFrames"
   ]
  },
  {
   "cell_type": "code",
   "execution_count": 69,
   "metadata": {},
   "outputs": [
    {
     "name": "stdout",
     "output_type": "stream",
     "text": [
      "pozo 0\n",
      "    Well     X      Y     Z     Var\n",
      "0      0  50.0  560.0   0.0  0.0951\n",
      "1      0  50.0  560.0   1.0  0.0951\n",
      "2      0  50.0  560.0   2.0  0.0980\n",
      "3      0  50.0  560.0   3.0  0.0923\n",
      "4      0  50.0  560.0   4.0  0.0837\n",
      "..   ...   ...    ...   ...     ...\n",
      "95     0  50.0  560.0  95.0  0.1386\n",
      "96     0  50.0  560.0  96.0  0.0887\n",
      "97     0  50.0  560.0  97.0  0.1121\n",
      "98     0  50.0  560.0  98.0  0.0930\n",
      "99     0  50.0  560.0  99.0  0.0495\n",
      "\n",
      "[100 rows x 5 columns]\n",
      "pozo 1\n",
      "     Well      X     Y     Z     Var\n",
      "100     1  200.0  30.0   0.0  0.0791\n",
      "101     1  200.0  30.0   1.0  0.0791\n",
      "102     1  200.0  30.0   2.0  0.1154\n",
      "103     1  200.0  30.0   3.0  0.0664\n",
      "104     1  200.0  30.0   4.0  0.0850\n",
      "..    ...    ...   ...   ...     ...\n",
      "195     1  200.0  30.0  95.0  0.0887\n",
      "196     1  200.0  30.0  96.0  0.1093\n",
      "197     1  200.0  30.0  97.0  0.1112\n",
      "198     1  200.0  30.0  98.0  0.1031\n",
      "199     1  200.0  30.0  99.0  0.0634\n",
      "\n",
      "[100 rows x 5 columns]\n",
      "pozo 2\n",
      "     Well      X      Y     Z     Var\n",
      "200     2  780.0  710.0   0.0  0.1110\n",
      "201     2  780.0  710.0   1.0  0.1110\n",
      "202     2  780.0  710.0   2.0  0.1211\n",
      "203     2  780.0  710.0   3.0  0.0608\n",
      "204     2  780.0  710.0   4.0  0.1142\n",
      "..    ...    ...    ...   ...     ...\n",
      "295     2  780.0  710.0  95.0  0.1238\n",
      "296     2  780.0  710.0  96.0  0.1142\n",
      "297     2  780.0  710.0  97.0  0.1275\n",
      "298     2  780.0  710.0  98.0  0.1046\n",
      "299     2  780.0  710.0  99.0  0.0968\n",
      "\n",
      "[100 rows x 5 columns]\n",
      "pozo 3\n",
      "     Well      X     Y     Z     Var\n",
      "300     3  550.0  55.0   0.0  0.0494\n",
      "301     3  550.0  55.0   1.0  0.0494\n",
      "302     3  550.0  55.0   2.0  0.1160\n",
      "303     3  550.0  55.0   3.0  0.0792\n",
      "304     3  550.0  55.0   4.0  0.0724\n",
      "..    ...    ...   ...   ...     ...\n",
      "395     3  550.0  55.0  95.0  0.0788\n",
      "396     3  550.0  55.0  96.0  0.0953\n",
      "397     3  550.0  55.0  97.0  0.1127\n",
      "398     3  550.0  55.0  98.0  0.0857\n",
      "399     3  550.0  55.0  99.0  0.0480\n",
      "\n",
      "[100 rows x 5 columns]\n",
      "pozo 4\n",
      "     Well      X      Y     Z     Var\n",
      "400     4  130.0  620.0   0.0  0.0873\n",
      "401     4  130.0  620.0   1.0  0.0873\n",
      "402     4  130.0  620.0   2.0  0.1030\n",
      "403     4  130.0  620.0   3.0  0.0971\n",
      "404     4  130.0  620.0   4.0  0.0889\n",
      "..    ...    ...    ...   ...     ...\n",
      "495     4  130.0  620.0  95.0  0.1290\n",
      "496     4  130.0  620.0  96.0  0.0850\n",
      "497     4  130.0  620.0  97.0  0.1077\n",
      "498     4  130.0  620.0  98.0  0.0868\n",
      "499     4  130.0  620.0  99.0  0.0621\n",
      "\n",
      "[100 rows x 5 columns]\n",
      "pozo 5\n",
      "     Well      X      Y     Z     Var\n",
      "500     5  820.0  230.0   0.0  0.0640\n",
      "501     5  820.0  230.0   1.0  0.0640\n",
      "502     5  820.0  230.0   2.0  0.1324\n",
      "503     5  820.0  230.0   3.0  0.0800\n",
      "504     5  820.0  230.0   4.0  0.0839\n",
      "..    ...    ...    ...   ...     ...\n",
      "595     5  820.0  230.0  95.0  0.0923\n",
      "596     5  820.0  230.0  96.0  0.0973\n",
      "597     5  820.0  230.0  97.0  0.1287\n",
      "598     5  820.0  230.0  98.0  0.0821\n",
      "599     5  820.0  230.0  99.0  0.0918\n",
      "\n",
      "[100 rows x 5 columns]\n",
      "pozo 6\n",
      "     Well      X      Y     Z     Var\n",
      "600     6  500.0  500.0   0.0  0.0923\n",
      "601     6  500.0  500.0   1.0  0.0923\n",
      "602     6  500.0  500.0   2.0  0.0832\n",
      "603     6  500.0  500.0   3.0  0.0786\n",
      "604     6  500.0  500.0   4.0  0.0890\n",
      "..    ...    ...    ...   ...     ...\n",
      "695     6  500.0  500.0  95.0  0.1225\n",
      "696     6  500.0  500.0  96.0  0.0788\n",
      "697     6  500.0  500.0  97.0  0.0919\n",
      "698     6  500.0  500.0  98.0  0.0997\n",
      "699     6  500.0  500.0  99.0  0.0867\n",
      "\n",
      "[100 rows x 5 columns]\n"
     ]
    }
   ],
   "source": [
    "cara=['Well','X','Y','Z','Var']\n",
    "#a=wlog.groupby(by=\"Well\")\n",
    "co=wlog[cara]\n",
    "df = pd.DataFrame(co)\n",
    "print('pozo 0')\n",
    "as0=df[df.Well== 0] \n",
    "print(as0)\n",
    "print('pozo 1')\n",
    "as1=df[df.Well==1 ] \n",
    "print(as1)\n",
    "print('pozo 2')\n",
    "as2=df[df.Well== 2] \n",
    "print(as2)\n",
    "print('pozo 3')\n",
    "as3=df[df.Well== 3] \n",
    "print(as3)\n",
    "print('pozo 4')\n",
    "as4=df[df.Well== 4] \n",
    "print(as4)\n",
    "print('pozo 5')\n",
    "as5=df[df.Well== 5] \n",
    "print(as5)\n",
    "print('pozo 6')\n",
    "as6=df[df.Well== 6] \n",
    "print(as6)"
   ]
  },
  {
   "cell_type": "markdown",
   "metadata": {},
   "source": [
    "# Histograma Var"
   ]
  },
  {
   "cell_type": "code",
   "execution_count": 23,
   "metadata": {},
   "outputs": [
    {
     "data": {
      "text/plain": [
       "array([[<matplotlib.axes._subplots.AxesSubplot object at 0x000001ED766B7C48>]],\n",
       "      dtype=object)"
      ]
     },
     "execution_count": 23,
     "metadata": {},
     "output_type": "execute_result"
    },
    {
     "data": {
      "image/png": "[encoded data removed]",
      "text/plain": [
       "<Figure size 432x288 with 1 Axes>"
      ]
     },
     "metadata": {
      "needs_background": "light"
     },
     "output_type": "display_data"
    }
   ],
   "source": [
    "var= ['Var']\n",
    "b=wlog[var]\n",
    "b.hist()"
   ]
  }
 ],
 "metadata": {
  "kernelspec": {
   "display_name": "Python 3",
   "language": "python",
   "name": "python3"
  },
  "language_info": {
   "codemirror_mode": {
    "name": "ipython",
    "version": 3
   },
   "file_extension": ".py",
   "mimetype": "text/x-python",
   "name": "python",
   "nbconvert_exporter": "python",
   "pygments_lexer": "ipython3",
   "version": "3.7.4"
  }
 },
 "nbformat": 4,
 "nbformat_minor": 2
}
